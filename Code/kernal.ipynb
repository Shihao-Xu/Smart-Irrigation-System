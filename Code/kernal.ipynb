{
 "cells": [
  {
   "cell_type": "markdown",
   "metadata": {},
   "source": [
    "## Kernal model implementation"
   ]
  },
  {
   "cell_type": "markdown",
   "metadata": {},
   "source": [
    "Import python modules"
   ]
  },
  {
   "cell_type": "code",
   "execution_count": 6,
   "metadata": {},
   "outputs": [],
   "source": [
    "from sklearn.kernel_ridge import KernelRidge\n",
    "import numpy as np\n",
    "from sklearn.model_selection import KFold\n",
    "import pandas as pd\n",
    "import matplotlib.pyplot as plt"
   ]
  },
  {
   "cell_type": "markdown",
   "metadata": {},
   "source": [
    "Read in train and test data, Compute MAE, Plot"
   ]
  },
  {
   "cell_type": "code",
   "execution_count": 7,
   "metadata": {},
   "outputs": [],
   "source": [
    "def read_data():\n",
    "\n",
    "    feature = pd.read_csv('outputData/dailyUsage/featureData.csv') \n",
    "    label = pd.read_csv('outputData/dailyUsage/rice_waterUsage.csv') \n",
    "    return feature, label\n",
    "\n",
    "\n",
    "def compute_error(y_hat, y):\n",
    "    return np.abs(y_hat - y).mean()"
   ]
  },
  {
   "cell_type": "code",
   "execution_count": 8,
   "metadata": {},
   "outputs": [],
   "source": [
    "feature, label = read_data()\n",
    "feature.fillna(0,inplace = True)\n",
    "feature = np.array(feature)\n",
    "label = np.array(label)\n",
    "label = label.reshape((-1))"
   ]
  },
  {
   "cell_type": "markdown",
   "metadata": {},
   "source": [
    "K-fold CV to get training data and test data and fit regression model"
   ]
  },
  {
   "cell_type": "code",
   "execution_count": 9,
   "metadata": {},
   "outputs": [
    {
     "name": "stdout",
     "output_type": "stream",
     "text": [
      "Mean Absolute Error of Kernal Modle: 0.02118635627534927\n"
     ]
    }
   ],
   "source": [
    "final_accur = 10000\n",
    "kf = KFold(n_splits=5,shuffle=True)\n",
    "for train_index , test_index in kf.split(feature):\n",
    "    X_train, X_test = feature[train_index], feature[test_index]\n",
    "    y_train, y_test = label[train_index], label[test_index]\n",
    "# Fit regression model\n",
    "    alphas = [0.1]\n",
    "    gammas = [0.001]\n",
    "    for alpha in alphas:\n",
    "        for gamma in gammas:\n",
    "            krr = KernelRidge(alpha=alpha,  gamma =gamma, kernel='rbf')\n",
    "            krr.fit(X_train, y_train)\n",
    "\n",
    "        # Predict\n",
    "            y_pred = krr.predict(X_test)\n",
    "        # Calculate accurcy\n",
    "            accur = compute_error(y_pred , y_test)\n",
    "            if accur < final_accur:\n",
    "                final_accur = accur\n",
    "\n",
    "print('Mean Absolute Error of Kernal Modle:', final_accur)\n",
    "\n",
    "prediction = krr.predict(feature)"
   ]
  },
  {
   "cell_type": "code",
   "execution_count": 10,
   "metadata": {},
   "outputs": [],
   "source": [
    "#output = pd.DataFrame(data = prediction)\n",
    "#output.to_csv(('outputData/ricePrediction/kernal_rice_waterUsage.csv'))"
   ]
  },
  {
   "cell_type": "code",
   "execution_count": null,
   "metadata": {},
   "outputs": [],
   "source": []
  }
 ],
 "metadata": {
  "kernelspec": {
   "display_name": "Python 3",
   "language": "python",
   "name": "python3"
  },
  "language_info": {
   "codemirror_mode": {
    "name": "ipython",
    "version": 3
   },
   "file_extension": ".py",
   "mimetype": "text/x-python",
   "name": "python",
   "nbconvert_exporter": "python",
   "pygments_lexer": "ipython3",
   "version": "3.6.5"
  }
 },
 "nbformat": 4,
 "nbformat_minor": 2
}
