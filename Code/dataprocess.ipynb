{
 "cells": [
  {
   "cell_type": "markdown",
   "metadata": {},
   "source": [
    "# Irrigation Water Requirement Prediction"
   ]
  },
  {
   "cell_type": "markdown",
   "metadata": {},
   "source": [
    "**Background & Goals:** Nowadays, Farming accounts for 70% of the water consumed and most of its wasteful use. Over irrigation will increases the amount of salt on the surface of soil due to evaporation. The accumulation of salts damages the soil fertility.Accoding to data collected by sensors(humidity, temperature, soil moisture, etc.), we predict how much water will be irrigated periodicity. In this way, we can make irrigation more controllable and accurate. "
   ]
  },
  {
   "cell_type": "markdown",
   "metadata": {},
   "source": [
    "## Data Pre-processing"
   ]
  },
  {
   "cell_type": "markdown",
   "metadata": {},
   "source": [
    "We are going to pre-process weather dataset and irrigation water usage for training dataset "
   ]
  },
  {
   "cell_type": "markdown",
   "metadata": {},
   "source": [
    "### Weather dataset"
   ]
  },
  {
   "cell_type": "markdown",
   "metadata": {},
   "source": [
    "We can get weather information of coleambelly from the Australian Meteorological Bureau website(http://www.bom.gov.au/climate/data/index.shtml), such as daily maximum temperature, daily minimum temperature, solar intensity, rainfall.   we are going to use weather data from 1999-2017,"
   ]
  },
  {
   "cell_type": "code",
   "execution_count": 1,
   "metadata": {},
   "outputs": [],
   "source": [
    "import pandas as pd"
   ]
  },
  {
   "cell_type": "code",
   "execution_count": 2,
   "metadata": {},
   "outputs": [],
   "source": [
    "def changeFormate(df):\n",
    "    df['Date']= str(int(df['Month']))+ '/' + str(int(df['Day']))+'/'+str(int(df['Year']))\n",
    "    return df['Date']\n",
    "\n",
    "def changeFormate1(df):\n",
    "    df['Month/Year']= str(int(df['Month']))+ '/'+str(int(df['Year']))\n",
    "    return df['Month/Year']\n",
    "\n",
    "def dataFilter(df):\n",
    "    df=df[(df['Year']>=2010)&(df['Year']<=2017)]\n",
    "    return df"
   ]
  },
  {
   "cell_type": "code",
   "execution_count": 3,
   "metadata": {},
   "outputs": [],
   "source": [
    "def calculateEToi(df):\n",
    "    if(df['Minimum temperature (Degree C)']>0):\n",
    "        df['EToi']=(0.408*0.0023*df['Daily global solar exposure (MJ/m*m)']*(\n",
    "        df['Maximum temperature (Degree C)']-df['Minimum temperature (Degree C)'])**(0.5))*((df['Maximum temperature (Degree C)']+df['Minimum temperature (Degree C)'])/2 +17.8)\n",
    "    else:\n",
    "        df['EToi']=(0.408*0.0023*df['Daily global solar exposure (MJ/m*m)']*(\n",
    "        df['Maximum temperature (Degree C)']+df['Minimum temperature (Degree C)'])**(0.5))*((df['Maximum temperature (Degree C)']+df['Minimum temperature (Degree C)'])/2 +17.8)\n",
    "    return df['EToi']"
   ]
  },
  {
   "cell_type": "markdown",
   "metadata": {},
   "source": [
    "Max temperature dataset"
   ]
  },
  {
   "cell_type": "code",
   "execution_count": 4,
   "metadata": {},
   "outputs": [],
   "source": [
    "maxTemDf=pd.read_csv('dataset/maxtem.csv') \n",
    "maxTemDf['Date'] =maxTemDf.apply(lambda x: changeFormate(x),axis=1)\n",
    "maxTemDf=dataFilter(maxTemDf)\n",
    "toDrop=['Year','Month','Day']\n",
    "maxTemDf.drop(toDrop,axis=1,inplace=True)"
   ]
  },
  {
   "cell_type": "markdown",
   "metadata": {},
   "source": [
    "Min temperature dataset"
   ]
  },
  {
   "cell_type": "code",
   "execution_count": 5,
   "metadata": {},
   "outputs": [],
   "source": [
    "minTemDf=pd.read_csv('dataset/mintem.csv') \n",
    "minTemDf['Date'] =minTemDf.apply(lambda x: changeFormate(x),axis=1)\n",
    "minTemDf=dataFilter(minTemDf)\n",
    "toDrop=['Year','Month','Day']\n",
    "minTemDf.drop(toDrop,axis=1,inplace=True)"
   ]
  },
  {
   "cell_type": "markdown",
   "metadata": {},
   "source": [
    "Rainfall dataset"
   ]
  },
  {
   "cell_type": "code",
   "execution_count": 6,
   "metadata": {},
   "outputs": [],
   "source": [
    "rainfallDf=pd.read_csv('dataset/rainfall.csv') \n",
    "rainfallDf['Date'] =rainfallDf.apply(lambda x: changeFormate(x),axis=1)\n",
    "rainfallDf=dataFilter(rainfallDf)\n",
    "toDrop=['Year','Month','Day']\n",
    "rainfallDf.drop(toDrop,axis=1,inplace=True)"
   ]
  },
  {
   "cell_type": "markdown",
   "metadata": {},
   "source": [
    "Radiation dataset"
   ]
  },
  {
   "cell_type": "code",
   "execution_count": 7,
   "metadata": {},
   "outputs": [],
   "source": [
    "solarDf=pd.read_csv('dataset/solar.csv') \n",
    "solarDf['Date'] =solarDf.apply(lambda x: changeFormate(x),axis=1)\n",
    "solarDf=dataFilter(solarDf)"
   ]
  },
  {
   "cell_type": "markdown",
   "metadata": {},
   "source": [
    "Combine these datasets into weather dataset"
   ]
  },
  {
   "cell_type": "code",
   "execution_count": 8,
   "metadata": {},
   "outputs": [],
   "source": [
    "Temp1Df = maxTemDf.merge(minTemDf, on='Date')\n",
    "Temp2Df = Temp1Df.merge(solarDf,on='Date')\n",
    "Temp3Df = Temp2Df.merge(rainfallDf,on='Date')"
   ]
  },
  {
   "cell_type": "code",
   "execution_count": 9,
   "metadata": {},
   "outputs": [],
   "source": [
    "toKeep=['Year','Month','Day','Date', 'Maximum temperature (Degree C)', 'Minimum temperature (Degree C)',\n",
    "         'Daily global solar exposure (MJ/m*m)','Rainfall amount (millimetres)']"
   ]
  },
  {
   "cell_type": "code",
   "execution_count": 10,
   "metadata": {},
   "outputs": [],
   "source": [
    "weatherDf = Temp3Df[toKeep].copy()"
   ]
  },
  {
   "cell_type": "code",
   "execution_count": 11,
   "metadata": {},
   "outputs": [],
   "source": [
    "weatherDf.fillna({'Rainfall amount (millimetres)':0},inplace=True)"
   ]
  },
  {
   "cell_type": "markdown",
   "metadata": {},
   "source": [
    "Calculate ETo of each day"
   ]
  },
  {
   "cell_type": "code",
   "execution_count": 12,
   "metadata": {},
   "outputs": [],
   "source": [
    "weatherDf['EToi']=weatherDf.apply(lambda x:calculateEToi(x),axis=1)"
   ]
  },
  {
   "cell_type": "code",
   "execution_count": 13,
   "metadata": {},
   "outputs": [],
   "source": [
    "#weatherDf.to_csv('outputData/weather.csv')"
   ]
  },
  {
   "cell_type": "markdown",
   "metadata": {},
   "source": [
    "Get sum of ETo by month"
   ]
  },
  {
   "cell_type": "code",
   "execution_count": 14,
   "metadata": {},
   "outputs": [],
   "source": [
    "grouping=['Year','Month']\n",
    "group1=weatherDf.groupby(grouping).sum()"
   ]
  },
  {
   "cell_type": "code",
   "execution_count": 15,
   "metadata": {},
   "outputs": [],
   "source": [
    "#group1.to_csv('outputData/ET.csv')"
   ]
  },
  {
   "cell_type": "markdown",
   "metadata": {},
   "source": [
    "### irragetion water usage dataset"
   ]
  },
  {
   "cell_type": "markdown",
   "metadata": {},
   "source": [
    "water usage.*"
   ]
  },
  {
   "cell_type": "code",
   "execution_count": 16,
   "metadata": {},
   "outputs": [],
   "source": [
    "waterUsageMonthDf=pd.read_csv('dataset/waterUsagemonth.csv') \n",
    "ETDf=pd.read_csv('outputData/ET.csv') \n",
    "weatherDf=pd.read_csv('outputData/weather.csv')"
   ]
  },
  {
   "cell_type": "code",
   "execution_count": 17,
   "metadata": {},
   "outputs": [],
   "source": [
    "ETDf['Month/Year'] =ETDf.apply(lambda x: changeFormate1(x),axis=1)\n",
    "waterUsageMonthDf['Month/Year'] =waterUsageMonthDf.apply(lambda x: changeFormate1(x),axis=1)"
   ]
  },
  {
   "cell_type": "code",
   "execution_count": 18,
   "metadata": {},
   "outputs": [],
   "source": [
    "toDrop=['Year','Month']\n",
    "waterUsageMonthDf.drop(toDrop,axis=1,inplace=True)"
   ]
  },
  {
   "cell_type": "code",
   "execution_count": 19,
   "metadata": {},
   "outputs": [],
   "source": [
    "Temp = waterUsageMonthDf.merge(ETDf, on='Month/Year')"
   ]
  },
  {
   "cell_type": "code",
   "execution_count": 20,
   "metadata": {},
   "outputs": [],
   "source": [
    "#Temp.columns"
   ]
  },
  {
   "cell_type": "code",
   "execution_count": 21,
   "metadata": {},
   "outputs": [],
   "source": [
    "toDrop=['CCD', 'DC800A', 'CODW', ' CODO', 'CCS','Maximum temperature (Degree C)', 'Minimum temperature (Degree C)',\n",
    "       'Daily global solar exposure (MJ/m*m)', 'Rainfall amount (millimetres)','Unnamed: 17','Day','Month','Year']\n",
    "Temp.drop(toDrop,axis=1,inplace=True)"
   ]
  },
  {
   "cell_type": "code",
   "execution_count": 22,
   "metadata": {},
   "outputs": [],
   "source": [
    "weatherDf['Month/Year'] =weatherDf.apply(lambda x: changeFormate1(x),axis=1)"
   ]
  },
  {
   "cell_type": "code",
   "execution_count": 23,
   "metadata": {},
   "outputs": [
    {
     "data": {
      "text/html": [
       "<div>\n",
       "<style scoped>\n",
       "    .dataframe tbody tr th:only-of-type {\n",
       "        vertical-align: middle;\n",
       "    }\n",
       "\n",
       "    .dataframe tbody tr th {\n",
       "        vertical-align: top;\n",
       "    }\n",
       "\n",
       "    .dataframe thead th {\n",
       "        text-align: right;\n",
       "    }\n",
       "</style>\n",
       "<table border=\"1\" class=\"dataframe\">\n",
       "  <thead>\n",
       "    <tr style=\"text-align: right;\">\n",
       "      <th></th>\n",
       "      <th>Unnamed: 0</th>\n",
       "      <th>Year</th>\n",
       "      <th>Month</th>\n",
       "      <th>Day</th>\n",
       "      <th>Date</th>\n",
       "      <th>Maximum temperature (Degree C)</th>\n",
       "      <th>Minimum temperature (Degree C)</th>\n",
       "      <th>Daily global solar exposure (MJ/m*m)</th>\n",
       "      <th>Rainfall amount (millimetres)</th>\n",
       "      <th>EToi_x</th>\n",
       "      <th>...</th>\n",
       "      <th>rice_pro(%)</th>\n",
       "      <th>rice_monthly_usage</th>\n",
       "      <th>maize_area(ha)</th>\n",
       "      <th>maize_pro(%)</th>\n",
       "      <th>maize_monthly_usage</th>\n",
       "      <th>wheat_area(ha)</th>\n",
       "      <th>wheat_pro(%)</th>\n",
       "      <th>wheat_monthly_usage</th>\n",
       "      <th>total_usage</th>\n",
       "      <th>EToi_y</th>\n",
       "    </tr>\n",
       "  </thead>\n",
       "  <tbody>\n",
       "    <tr>\n",
       "      <th>0</th>\n",
       "      <td>181</td>\n",
       "      <td>2010</td>\n",
       "      <td>7</td>\n",
       "      <td>1</td>\n",
       "      <td>7/1/2010</td>\n",
       "      <td>13.2</td>\n",
       "      <td>3.5</td>\n",
       "      <td>9.6</td>\n",
       "      <td>0.0</td>\n",
       "      <td>0.733697</td>\n",
       "      <td>...</td>\n",
       "      <td>68.3</td>\n",
       "      <td>1692.474</td>\n",
       "      <td>4367</td>\n",
       "      <td>7.2</td>\n",
       "      <td>178.416</td>\n",
       "      <td>11334</td>\n",
       "      <td>5.1</td>\n",
       "      <td>126.378</td>\n",
       "      <td>2478</td>\n",
       "      <td>20.000339</td>\n",
       "    </tr>\n",
       "    <tr>\n",
       "      <th>1</th>\n",
       "      <td>182</td>\n",
       "      <td>2010</td>\n",
       "      <td>7</td>\n",
       "      <td>2</td>\n",
       "      <td>7/2/2010</td>\n",
       "      <td>8.7</td>\n",
       "      <td>4.8</td>\n",
       "      <td>5.0</td>\n",
       "      <td>0.2</td>\n",
       "      <td>0.227479</td>\n",
       "      <td>...</td>\n",
       "      <td>68.3</td>\n",
       "      <td>1692.474</td>\n",
       "      <td>4367</td>\n",
       "      <td>7.2</td>\n",
       "      <td>178.416</td>\n",
       "      <td>11334</td>\n",
       "      <td>5.1</td>\n",
       "      <td>126.378</td>\n",
       "      <td>2478</td>\n",
       "      <td>20.000339</td>\n",
       "    </tr>\n",
       "    <tr>\n",
       "      <th>2</th>\n",
       "      <td>183</td>\n",
       "      <td>2010</td>\n",
       "      <td>7</td>\n",
       "      <td>3</td>\n",
       "      <td>7/3/2010</td>\n",
       "      <td>12.1</td>\n",
       "      <td>1.8</td>\n",
       "      <td>9.8</td>\n",
       "      <td>6.4</td>\n",
       "      <td>0.730479</td>\n",
       "      <td>...</td>\n",
       "      <td>68.3</td>\n",
       "      <td>1692.474</td>\n",
       "      <td>4367</td>\n",
       "      <td>7.2</td>\n",
       "      <td>178.416</td>\n",
       "      <td>11334</td>\n",
       "      <td>5.1</td>\n",
       "      <td>126.378</td>\n",
       "      <td>2478</td>\n",
       "      <td>20.000339</td>\n",
       "    </tr>\n",
       "    <tr>\n",
       "      <th>3</th>\n",
       "      <td>184</td>\n",
       "      <td>2010</td>\n",
       "      <td>7</td>\n",
       "      <td>4</td>\n",
       "      <td>7/4/2010</td>\n",
       "      <td>9.5</td>\n",
       "      <td>1.0</td>\n",
       "      <td>9.8</td>\n",
       "      <td>0.0</td>\n",
       "      <td>0.618009</td>\n",
       "      <td>...</td>\n",
       "      <td>68.3</td>\n",
       "      <td>1692.474</td>\n",
       "      <td>4367</td>\n",
       "      <td>7.2</td>\n",
       "      <td>178.416</td>\n",
       "      <td>11334</td>\n",
       "      <td>5.1</td>\n",
       "      <td>126.378</td>\n",
       "      <td>2478</td>\n",
       "      <td>20.000339</td>\n",
       "    </tr>\n",
       "    <tr>\n",
       "      <th>4</th>\n",
       "      <td>185</td>\n",
       "      <td>2010</td>\n",
       "      <td>7</td>\n",
       "      <td>5</td>\n",
       "      <td>7/5/2010</td>\n",
       "      <td>12.3</td>\n",
       "      <td>1.6</td>\n",
       "      <td>6.2</td>\n",
       "      <td>0.4</td>\n",
       "      <td>0.471028</td>\n",
       "      <td>...</td>\n",
       "      <td>68.3</td>\n",
       "      <td>1692.474</td>\n",
       "      <td>4367</td>\n",
       "      <td>7.2</td>\n",
       "      <td>178.416</td>\n",
       "      <td>11334</td>\n",
       "      <td>5.1</td>\n",
       "      <td>126.378</td>\n",
       "      <td>2478</td>\n",
       "      <td>20.000339</td>\n",
       "    </tr>\n",
       "  </tbody>\n",
       "</table>\n",
       "<p>5 rows × 22 columns</p>\n",
       "</div>"
      ],
      "text/plain": [
       "   Unnamed: 0  Year  Month  Day      Date  Maximum temperature (Degree C)  \\\n",
       "0         181  2010      7    1  7/1/2010                            13.2   \n",
       "1         182  2010      7    2  7/2/2010                             8.7   \n",
       "2         183  2010      7    3  7/3/2010                            12.1   \n",
       "3         184  2010      7    4  7/4/2010                             9.5   \n",
       "4         185  2010      7    5  7/5/2010                            12.3   \n",
       "\n",
       "   Minimum temperature (Degree C)  Daily global solar exposure (MJ/m*m)  \\\n",
       "0                             3.5                                   9.6   \n",
       "1                             4.8                                   5.0   \n",
       "2                             1.8                                   9.8   \n",
       "3                             1.0                                   9.8   \n",
       "4                             1.6                                   6.2   \n",
       "\n",
       "   Rainfall amount (millimetres)    EToi_x    ...     rice_pro(%)  \\\n",
       "0                            0.0  0.733697    ...            68.3   \n",
       "1                            0.2  0.227479    ...            68.3   \n",
       "2                            6.4  0.730479    ...            68.3   \n",
       "3                            0.0  0.618009    ...            68.3   \n",
       "4                            0.4  0.471028    ...            68.3   \n",
       "\n",
       "   rice_monthly_usage  maize_area(ha)  maize_pro(%)  maize_monthly_usage  \\\n",
       "0            1692.474            4367           7.2              178.416   \n",
       "1            1692.474            4367           7.2              178.416   \n",
       "2            1692.474            4367           7.2              178.416   \n",
       "3            1692.474            4367           7.2              178.416   \n",
       "4            1692.474            4367           7.2              178.416   \n",
       "\n",
       "   wheat_area(ha)  wheat_pro(%)  wheat_monthly_usage  total_usage     EToi_y  \n",
       "0           11334           5.1              126.378         2478  20.000339  \n",
       "1           11334           5.1              126.378         2478  20.000339  \n",
       "2           11334           5.1              126.378         2478  20.000339  \n",
       "3           11334           5.1              126.378         2478  20.000339  \n",
       "4           11334           5.1              126.378         2478  20.000339  \n",
       "\n",
       "[5 rows x 22 columns]"
      ]
     },
     "execution_count": 23,
     "metadata": {},
     "output_type": "execute_result"
    }
   ],
   "source": [
    "Temp1 = weatherDf.merge(Temp, on='Month/Year')\n",
    "Temp1.head()"
   ]
  },
  {
   "cell_type": "code",
   "execution_count": 24,
   "metadata": {},
   "outputs": [],
   "source": [
    "#Temp1.columns"
   ]
  },
  {
   "cell_type": "code",
   "execution_count": 25,
   "metadata": {},
   "outputs": [],
   "source": [
    "toDrop=['Unnamed: 0','total_usage']\n",
    "Temp1.drop(toDrop,axis=1,inplace=True)"
   ]
  },
  {
   "cell_type": "code",
   "execution_count": 26,
   "metadata": {},
   "outputs": [],
   "source": [
    "def riceDaily(df):\n",
    "    df['riceDaily']=(df['EToi_x']/df['EToi_y'])*df['rice_monthly_usage']/df['rice_area(ha)']\n",
    "    return df['riceDaily']"
   ]
  },
  {
   "cell_type": "code",
   "execution_count": 27,
   "metadata": {},
   "outputs": [],
   "source": [
    "def maizeDaily(df):\n",
    "    df['maizeDaily']=(df['EToi_x']/df['EToi_y'])*df['maize_monthly_usage']/df['maize_area(ha)']\n",
    "    return df['maizeDaily']"
   ]
  },
  {
   "cell_type": "code",
   "execution_count": 28,
   "metadata": {},
   "outputs": [],
   "source": [
    "def wheatDaily(df):\n",
    "    df['wheatDaily']=(df['EToi_x']/df['EToi_y'])*df['wheat_monthly_usage']/df['wheat_area(ha)']\n",
    "    return df['wheatDaily']"
   ]
  },
  {
   "cell_type": "code",
   "execution_count": 29,
   "metadata": {},
   "outputs": [],
   "source": [
    "Temp1['riceDaily']=Temp1.apply(lambda x:riceDaily(x),axis=1)\n",
    "Temp1['maizeDaily']=Temp1.apply(lambda x:maizeDaily(x),axis=1)\n",
    "Temp1['wheatDaily']=Temp1.apply(lambda x:wheatDaily(x),axis=1)"
   ]
  },
  {
   "cell_type": "code",
   "execution_count": 30,
   "metadata": {},
   "outputs": [],
   "source": [
    "#Temp1.columns"
   ]
  },
  {
   "cell_type": "code",
   "execution_count": 31,
   "metadata": {},
   "outputs": [],
   "source": [
    "toDrop=[ 'EToi_x', 'Month/Year', 'rice_area(ha)', 'rice_pro(%)',\n",
    "       'rice_monthly_usage', 'maize_area(ha)', 'maize_pro(%)',\n",
    "       'maize_monthly_usage', 'wheat_area(ha)', 'wheat_pro(%)',\n",
    "       'wheat_monthly_usage', 'EToi_y','Date']\n",
    "Temp1.drop(toDrop,axis=1,inplace=True)"
   ]
  },
  {
   "cell_type": "code",
   "execution_count": 32,
   "metadata": {},
   "outputs": [
    {
     "data": {
      "text/html": [
       "<div>\n",
       "<style scoped>\n",
       "    .dataframe tbody tr th:only-of-type {\n",
       "        vertical-align: middle;\n",
       "    }\n",
       "\n",
       "    .dataframe tbody tr th {\n",
       "        vertical-align: top;\n",
       "    }\n",
       "\n",
       "    .dataframe thead th {\n",
       "        text-align: right;\n",
       "    }\n",
       "</style>\n",
       "<table border=\"1\" class=\"dataframe\">\n",
       "  <thead>\n",
       "    <tr style=\"text-align: right;\">\n",
       "      <th></th>\n",
       "      <th>Year</th>\n",
       "      <th>Month</th>\n",
       "      <th>Day</th>\n",
       "      <th>Maximum temperature (Degree C)</th>\n",
       "      <th>Minimum temperature (Degree C)</th>\n",
       "      <th>Daily global solar exposure (MJ/m*m)</th>\n",
       "      <th>Rainfall amount (millimetres)</th>\n",
       "      <th>riceDaily</th>\n",
       "      <th>maizeDaily</th>\n",
       "      <th>wheatDaily</th>\n",
       "    </tr>\n",
       "  </thead>\n",
       "  <tbody>\n",
       "    <tr>\n",
       "      <th>0</th>\n",
       "      <td>2010</td>\n",
       "      <td>7</td>\n",
       "      <td>1</td>\n",
       "      <td>13.2</td>\n",
       "      <td>3.5</td>\n",
       "      <td>9.6</td>\n",
       "      <td>0.0</td>\n",
       "      <td>0.004278</td>\n",
       "      <td>0.001499</td>\n",
       "      <td>0.000409</td>\n",
       "    </tr>\n",
       "    <tr>\n",
       "      <th>1</th>\n",
       "      <td>2010</td>\n",
       "      <td>7</td>\n",
       "      <td>2</td>\n",
       "      <td>8.7</td>\n",
       "      <td>4.8</td>\n",
       "      <td>5.0</td>\n",
       "      <td>0.2</td>\n",
       "      <td>0.001326</td>\n",
       "      <td>0.000465</td>\n",
       "      <td>0.000127</td>\n",
       "    </tr>\n",
       "    <tr>\n",
       "      <th>2</th>\n",
       "      <td>2010</td>\n",
       "      <td>7</td>\n",
       "      <td>3</td>\n",
       "      <td>12.1</td>\n",
       "      <td>1.8</td>\n",
       "      <td>9.8</td>\n",
       "      <td>6.4</td>\n",
       "      <td>0.004260</td>\n",
       "      <td>0.001492</td>\n",
       "      <td>0.000407</td>\n",
       "    </tr>\n",
       "    <tr>\n",
       "      <th>3</th>\n",
       "      <td>2010</td>\n",
       "      <td>7</td>\n",
       "      <td>4</td>\n",
       "      <td>9.5</td>\n",
       "      <td>1.0</td>\n",
       "      <td>9.8</td>\n",
       "      <td>0.0</td>\n",
       "      <td>0.003604</td>\n",
       "      <td>0.001262</td>\n",
       "      <td>0.000345</td>\n",
       "    </tr>\n",
       "    <tr>\n",
       "      <th>4</th>\n",
       "      <td>2010</td>\n",
       "      <td>7</td>\n",
       "      <td>5</td>\n",
       "      <td>12.3</td>\n",
       "      <td>1.6</td>\n",
       "      <td>6.2</td>\n",
       "      <td>0.4</td>\n",
       "      <td>0.002747</td>\n",
       "      <td>0.000962</td>\n",
       "      <td>0.000263</td>\n",
       "    </tr>\n",
       "  </tbody>\n",
       "</table>\n",
       "</div>"
      ],
      "text/plain": [
       "   Year  Month  Day  Maximum temperature (Degree C)  \\\n",
       "0  2010      7    1                            13.2   \n",
       "1  2010      7    2                             8.7   \n",
       "2  2010      7    3                            12.1   \n",
       "3  2010      7    4                             9.5   \n",
       "4  2010      7    5                            12.3   \n",
       "\n",
       "   Minimum temperature (Degree C)  Daily global solar exposure (MJ/m*m)  \\\n",
       "0                             3.5                                   9.6   \n",
       "1                             4.8                                   5.0   \n",
       "2                             1.8                                   9.8   \n",
       "3                             1.0                                   9.8   \n",
       "4                             1.6                                   6.2   \n",
       "\n",
       "   Rainfall amount (millimetres)  riceDaily  maizeDaily  wheatDaily  \n",
       "0                            0.0   0.004278    0.001499    0.000409  \n",
       "1                            0.2   0.001326    0.000465    0.000127  \n",
       "2                            6.4   0.004260    0.001492    0.000407  \n",
       "3                            0.0   0.003604    0.001262    0.000345  \n",
       "4                            0.4   0.002747    0.000962    0.000263  "
      ]
     },
     "execution_count": 32,
     "metadata": {},
     "output_type": "execute_result"
    }
   ],
   "source": [
    "Temp1.head()"
   ]
  },
  {
   "cell_type": "markdown",
   "metadata": {},
   "source": [
    "### feature and lable "
   ]
  },
  {
   "cell_type": "code",
   "execution_count": 33,
   "metadata": {},
   "outputs": [],
   "source": [
    "featureDf=Temp1[['Month','Maximum temperature (Degree C)',\n",
    "       'Minimum temperature (Degree C)',\n",
    "       'Daily global solar exposure (MJ/m*m)', 'Rainfall amount (millimetres)']]"
   ]
  },
  {
   "cell_type": "code",
   "execution_count": 34,
   "metadata": {},
   "outputs": [],
   "source": [
    "#featureDf.to_csv('outputData/dailyUsage/featureData.csv')"
   ]
  },
  {
   "cell_type": "code",
   "execution_count": 35,
   "metadata": {},
   "outputs": [],
   "source": [
    "riceDaily=Temp1[['riceDaily']]\n",
    "maizeDaily=Temp1[['maizeDaily']]\n",
    "wheatDaily=Temp1[['wheatDaily']]"
   ]
  },
  {
   "cell_type": "code",
   "execution_count": 36,
   "metadata": {},
   "outputs": [],
   "source": [
    "#wheatDaily.to_csv('outputData/dailyUsage/wheat_waterUsage.csv')\n",
    "#riceDaily.to_csv('outputData/dailyUsage/riceDaily_waterUsage.csv')\n",
    "#maizeDaily.to_csv('outputData/dailyUsage/maizeDaily_waterUsage.csv')"
   ]
  },
  {
   "cell_type": "code",
   "execution_count": null,
   "metadata": {},
   "outputs": [],
   "source": []
  }
 ],
 "metadata": {
  "kernelspec": {
   "display_name": "Python 3",
   "language": "python",
   "name": "python3"
  },
  "language_info": {
   "codemirror_mode": {
    "name": "ipython",
    "version": 3
   },
   "file_extension": ".py",
   "mimetype": "text/x-python",
   "name": "python",
   "nbconvert_exporter": "python",
   "pygments_lexer": "ipython3",
   "version": "3.6.5"
  },
  "varInspector": {
   "cols": {
    "lenName": 16,
    "lenType": 16,
    "lenVar": 40
   },
   "kernels_config": {
    "python": {
     "delete_cmd_postfix": "",
     "delete_cmd_prefix": "del ",
     "library": "var_list.py",
     "varRefreshCmd": "print(var_dic_list())"
    },
    "r": {
     "delete_cmd_postfix": ") ",
     "delete_cmd_prefix": "rm(",
     "library": "var_list.r",
     "varRefreshCmd": "cat(var_dic_list()) "
    }
   },
   "types_to_exclude": [
    "module",
    "function",
    "builtin_function_or_method",
    "instance",
    "_Feature"
   ],
   "window_display": false
  }
 },
 "nbformat": 4,
 "nbformat_minor": 2
}
