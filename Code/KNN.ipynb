{
 "cells": [
  {
   "cell_type": "markdown",
   "metadata": {},
   "source": [
    "## KNN model implementation"
   ]
  },
  {
   "cell_type": "markdown",
   "metadata": {},
   "source": [
    "Import python modules"
   ]
  },
  {
   "cell_type": "code",
   "execution_count": 6,
   "metadata": {},
   "outputs": [],
   "source": [
    "import numpy as np\n",
    "import pandas as pd\n",
    "from sklearn.model_selection import KFold\n",
    "from sklearn import neighbors\n",
    "import matplotlib.pyplot as plt"
   ]
  },
  {
   "cell_type": "markdown",
   "metadata": {},
   "source": [
    "Read in train and test data, Compute MAE, Plot"
   ]
  },
  {
   "cell_type": "code",
   "execution_count": 7,
   "metadata": {},
   "outputs": [],
   "source": [
    "def read_data():\n",
    "\n",
    "    feature = pd.read_csv('outputData/dailyUsage/featureData.csv') \n",
    "    label = pd.read_csv('outputData/dailyUsage/rice_waterUsage.csv') \n",
    "    return feature, label\n",
    "\n",
    "\n",
    "def compute_error(y_hat, y):\n",
    "    return np.abs(y_hat - y).mean()\n"
   ]
  },
  {
   "cell_type": "code",
   "execution_count": 8,
   "metadata": {},
   "outputs": [],
   "source": [
    "feature, label = read_data()\n",
    "feature.fillna(0,inplace = True)\n",
    "feature = np.array(feature)\n",
    "label = np.array(label)\n",
    "label = label.reshape((-1))"
   ]
  },
  {
   "cell_type": "code",
   "execution_count": 9,
   "metadata": {},
   "outputs": [
    {
     "name": "stdout",
     "output_type": "stream",
     "text": [
      "Mean Absolute Error of KNN Modle: 0.020188999962426613\n"
     ]
    }
   ],
   "source": [
    "# K-fold CV to get training data and test data\n",
    "final_accur = 10000\n",
    "kf = KFold(n_splits=5,shuffle=True)\n",
    "for train_index , test_index in kf.split(feature):\n",
    "    X_train, X_test = feature[train_index], feature[test_index]\n",
    "    y_train, y_test = label[train_index], label[test_index]\n",
    "# Fit regression model\n",
    "    N_list = [10]\n",
    "    for neighbor in N_list:\n",
    "        knn =  neighbors.KNeighborsRegressor(n_neighbors = neighbor)\n",
    "        knn.fit(X_train, y_train)\n",
    "\n",
    "# Predict\n",
    "        y_pred = knn.predict(X_test)\n",
    "# Calculate accurcy\n",
    "        accur = compute_error(y_pred , y_test)\n",
    "        if accur < final_accur:\n",
    "            final_accur = accur\n",
    "print('Mean Absolute Error of KNN Modle:', final_accur)\n",
    "\n",
    "prediction = knn.predict(feature)"
   ]
  },
  {
   "cell_type": "code",
   "execution_count": 10,
   "metadata": {},
   "outputs": [],
   "source": [
    "#output = pd.DataFrame(data = prediction)\n",
    "#output.to_csv(('outputData/ricePrediction/knn_rice_waterUsage.csv'))"
   ]
  },
  {
   "cell_type": "code",
   "execution_count": null,
   "metadata": {},
   "outputs": [],
   "source": []
  }
 ],
 "metadata": {
  "kernelspec": {
   "display_name": "Python 3",
   "language": "python",
   "name": "python3"
  },
  "language_info": {
   "codemirror_mode": {
    "name": "ipython",
    "version": 3
   },
   "file_extension": ".py",
   "mimetype": "text/x-python",
   "name": "python",
   "nbconvert_exporter": "python",
   "pygments_lexer": "ipython3",
   "version": "3.6.5"
  }
 },
 "nbformat": 4,
 "nbformat_minor": 2
}
